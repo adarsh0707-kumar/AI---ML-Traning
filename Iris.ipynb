{
 "cells": [
  {
   "cell_type": "code",
   "execution_count": null,
   "id": "c672f53e",
   "metadata": {},
   "outputs": [],
   "source": [
    "%pip install scikit-learn\n"
   ]
  },
  {
   "cell_type": "code",
   "execution_count": null,
   "id": "c6c2f72f",
   "metadata": {},
   "outputs": [],
   "source": [
    "from sklearn import datasets"
   ]
  },
  {
   "cell_type": "code",
   "execution_count": null,
   "id": "79ab1428",
   "metadata": {},
   "outputs": [],
   "source": [
    "iris = datasets.load_iris()"
   ]
  },
  {
   "cell_type": "code",
   "execution_count": null,
   "id": "5fa99f1c",
   "metadata": {},
   "outputs": [],
   "source": [
    "iris"
   ]
  },
  {
   "cell_type": "code",
   "execution_count": null,
   "id": "06f2ea2c",
   "metadata": {},
   "outputs": [],
   "source": [
    "import pandas as pd"
   ]
  },
  {
   "cell_type": "code",
   "execution_count": null,
   "id": "b6c172b9",
   "metadata": {},
   "outputs": [],
   "source": [
    "df = pd.DataFrame(iris.data, columns=iris.feature_names)\n"
   ]
  },
  {
   "cell_type": "code",
   "execution_count": null,
   "id": "293b82fd",
   "metadata": {},
   "outputs": [],
   "source": [
    "df"
   ]
  },
  {
   "cell_type": "code",
   "execution_count": null,
   "id": "aa9afe12",
   "metadata": {},
   "outputs": [],
   "source": [
    "import matplotlib.pyplot as plt"
   ]
  },
  {
   "cell_type": "code",
   "execution_count": null,
   "id": "0409fbfe",
   "metadata": {},
   "outputs": [],
   "source": [
    "plt.scatter(df['sepal length (cm)'], df['sepal width (cm)'])  "
   ]
  },
  {
   "cell_type": "code",
   "execution_count": null,
   "id": "ad49387a",
   "metadata": {},
   "outputs": [],
   "source": [
    "plt.scatter(df['sepal length (cm)'], df['petal width (cm)'])"
   ]
  },
  {
   "cell_type": "code",
   "execution_count": null,
   "id": "067fd928",
   "metadata": {},
   "outputs": [],
   "source": [
    "plt.scatter(df['sepal length (cm)'], df['petal length (cm)'])"
   ]
  },
  {
   "cell_type": "code",
   "execution_count": null,
   "id": "8105497f",
   "metadata": {},
   "outputs": [],
   "source": [
    "plt.scatter(df['sepal width (cm)'], df['petal length (cm)'])"
   ]
  },
  {
   "cell_type": "code",
   "execution_count": null,
   "id": "8f4eaf7b",
   "metadata": {},
   "outputs": [],
   "source": [
    "plt.scatter(df['sepal width (cm)'], df['petal width (cm)'])"
   ]
  },
  {
   "cell_type": "code",
   "execution_count": null,
   "id": "7188daad",
   "metadata": {},
   "outputs": [],
   "source": [
    "plt.scatter(df['petal length (cm)'], df['petal width (cm)'])"
   ]
  },
  {
   "cell_type": "code",
   "execution_count": null,
   "id": "8d739a33",
   "metadata": {},
   "outputs": [],
   "source": [
    "plt.hist('petal length (cm)')"
   ]
  },
  {
   "cell_type": "code",
   "execution_count": null,
   "id": "a7a9a21a",
   "metadata": {},
   "outputs": [],
   "source": [
    "plt.pie(df['petal length (cm)'], labels=df['petal length (cm)'])"
   ]
  },
  {
   "cell_type": "code",
   "execution_count": null,
   "id": "b6ee9e6b",
   "metadata": {},
   "outputs": [],
   "source": [
    "plt.bar(df[target],df['petal length (cm)'])"
   ]
  },
  {
   "cell_type": "code",
   "execution_count": null,
   "id": "ad65c8bb",
   "metadata": {},
   "outputs": [],
   "source": []
  }
 ],
 "metadata": {
  "kernelspec": {
   "display_name": "base",
   "language": "python",
   "name": "python3"
  },
  "language_info": {
   "codemirror_mode": {
    "name": "ipython",
    "version": 3
   },
   "file_extension": ".py",
   "mimetype": "text/x-python",
   "name": "python",
   "nbconvert_exporter": "python",
   "pygments_lexer": "ipython3",
   "version": "3.12.9"
  }
 },
 "nbformat": 4,
 "nbformat_minor": 5
}
